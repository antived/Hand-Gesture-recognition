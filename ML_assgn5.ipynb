{
 "cells": [
  {
   "cell_type": "code",
   "execution_count": 10,
   "id": "404a9f92-ec77-4db6-b4ca-8b40ea5e50ff",
   "metadata": {},
   "outputs": [
    {
     "name": "stderr",
     "output_type": "stream",
     "text": [
      "100%|██████████████████████████████████████████████████████████████████████████| 21964/21964 [00:03<00:00, 6873.93it/s]\n",
      "100%|████████████████████████████████████████████████████████████████████████████| 5491/5491 [00:00<00:00, 8884.20it/s]\n"
     ]
    }
   ],
   "source": [
    "import os\n",
    "import numpy as np\n",
    "import pandas as pd\n",
    "import matplotlib.pyplot as plt\n",
    "from tqdm import tqdm\n",
    "\n",
    "training_data = []\n",
    "testing_data = [] \n",
    "\n",
    "class prep_data():\n",
    "    def __init__(self,file_path):\n",
    "        self.file_path = file_path\n",
    "        if not os.path.exists(self.file_path):\n",
    "            print(\"this file path doesnt exist\")\n",
    "        try:\n",
    "            data_pd = pd.read_csv(self.file_path)\n",
    "        except Exception as e:\n",
    "            print(\"Error occured during loading the csv fule\")\n",
    "            return\n",
    "        data_len = data_pd.shape[0]\n",
    "        test_len = int(data_len*0.2)\n",
    "        train_len = data_len - test_len\n",
    "\n",
    "        for i in tqdm(range(train_len)):\n",
    "            training_data.append((torch.tensor(data_pd.iloc[i,1:].values,dtype = torch.float32),data_pd.iloc[i,0]))\n",
    "\n",
    "        for i in tqdm(range(train_len, data_len)):\n",
    "            testing_data.append((torch.tensor(data_pd.iloc[i,1:].values,dtype = torch.float32),data_pd.iloc[i,0]))\n",
    "        \n",
    "file_path = '/Users/Vedant Dutta/Desktop/hand_sign_set/sign_mnist_train.csv'\n",
    "prep_dat = prep_data(file_path)\n",
    "    "
   ]
  },
  {
   "cell_type": "code",
   "execution_count": 11,
   "id": "96fe0197-7cf6-4d69-8165-311d1774e7df",
   "metadata": {},
   "outputs": [
    {
     "name": "stdout",
     "output_type": "stream",
     "text": [
      "21964\n"
     ]
    }
   ],
   "source": [
    "print(len(training_data))"
   ]
  },
  {
   "cell_type": "markdown",
   "id": "c8548c17-4288-4f5c-81c8-763d00eca911",
   "metadata": {},
   "source": [
    "**Now we can go ahead and make the network that is as specified in the assignment.**\n",
    "\n",
    "\n",
    "**conv layer1** : 1 input channel, 32 output channels, kenrel_size = 3,3 stride =1, activation used = relu\n",
    "\n",
    "**conv layer2** : 32 input channels, 64 output channels, kernel_size = 3,3, stride = 1, activation used = relu\n",
    "\n",
    "**max pool layer** : window size = 2,2, stride = 2.\n",
    "\n",
    "**fully connected layer1** : 512 units, activation used = Relu\n",
    "\n",
    "**dropout layer**  : dropout rate = 0.28\n",
    "\n",
    "**output layer** : fully connected, 26 neurons with softmax activation for logit probablity output for each of the 26 classes."
   ]
  },
  {
   "cell_type": "code",
   "execution_count": 9,
   "id": "0aa474e3-30c8-47d4-82c3-70a48ca93867",
   "metadata": {},
   "outputs": [
    {
     "name": "stdout",
     "output_type": "stream",
     "text": [
      "----------------------------------------------------------------\n",
      "        Layer (type)               Output Shape         Param #\n",
      "================================================================\n",
      "            Conv2d-1           [-1, 32, 26, 26]             320\n",
      "       BatchNorm2d-2           [-1, 32, 26, 26]              64\n",
      "            Conv2d-3           [-1, 64, 24, 24]          18,496\n",
      "       BatchNorm2d-4           [-1, 64, 24, 24]             128\n",
      "            Linear-5                  [-1, 512]       4,719,104\n",
      "           Dropout-6                  [-1, 512]               0\n",
      "            Linear-7                   [-1, 26]          13,338\n",
      "================================================================\n",
      "Total params: 4,751,450\n",
      "Trainable params: 4,751,450\n",
      "Non-trainable params: 0\n",
      "----------------------------------------------------------------\n",
      "Input size (MB): 0.00\n",
      "Forward/backward pass size (MB): 0.90\n",
      "Params size (MB): 18.13\n",
      "Estimated Total Size (MB): 19.03\n",
      "----------------------------------------------------------------\n"
     ]
    }
   ],
   "source": [
    "import torch\n",
    "import torch.nn as nn\n",
    "import torch.nn.functional as F\n",
    "from torchsummary import summary\n",
    "\n",
    "class Net(nn.Module):\n",
    "    def __init__(self):\n",
    "        super().__init__()\n",
    "        self.conv1 = nn.Conv2d(1,32, kernel_size = (3,3), stride = 1)\n",
    "        self.bn1 = nn.BatchNorm2d(32)\n",
    "        self.conv2 = nn.Conv2d(32,64,kernel_size = (3,3), stride = 1)\n",
    "        self.bn2 = nn.BatchNorm2d(64)\n",
    "\n",
    "        self.to_lin = None\n",
    "        x = torch.rand(28,28).view(-1,1,28,28)\n",
    "        self.temp_forward(x)\n",
    "        self.fc1 = nn.Linear(self.to_lin, 512)\n",
    "        self.fc2 = nn.Linear(512,26)\n",
    "        self.drop_out = nn.Dropout(p = 0.28, inplace = False)\n",
    "\n",
    "    def temp_forward(self,x):\n",
    "        x = F.relu(self.conv1(x))\n",
    "        x = self.bn1(x)\n",
    "        x = F.relu(self.conv2(x))\n",
    "        x = self.bn2(x)\n",
    "        x = F.max_pool2d(x,kernel_size = (2,2))\n",
    "\n",
    "        if self.to_lin == None:\n",
    "            self.to_lin = x[0].shape[0]*x[0].shape[1]*x[0].shape[2]\n",
    "        return x\n",
    "             \n",
    "    def forward(self,x):\n",
    "        x = self.temp_forward(x)\n",
    "        x = x.view(-1,self.to_lin)\n",
    "        x = F.relu(self.fc1(x))\n",
    "        x = self.drop_out(x)\n",
    "        x = self.fc2(x)\n",
    "        #x = F.softmax(x, dim = 1)\n",
    "        return x\n",
    "                \n",
    "net = Net()     \n",
    "summary(net, input_size=(1, 28, 28))"
   ]
  },
  {
   "cell_type": "markdown",
   "id": "98065fb2-1694-4ab0-a031-32101b6a9fbe",
   "metadata": {},
   "source": [
    "So, now the network architecture has been made and now we can set the optimizer, loss function etc for the means of training"
   ]
  },
  {
   "cell_type": "code",
   "execution_count": 13,
   "id": "ed893d2a-d137-408e-9aef-c8d8cb657252",
   "metadata": {},
   "outputs": [],
   "source": [
    "import torch.optim as optim\n",
    "\n",
    "optimizer = optim.Adam(net.parameters(), lr = 0.001)\n",
    "loss_fn = nn.CrossEntropyLoss()\n",
    "val_len = int(len(training_data)*0.2)\n",
    "X_train = torch.stack([(i[0].view(28,28))/255.0 for i in training_data[:-val_len]])\n",
    "X_val = torch.stack([(i[0].view(28,28))/255.0 for i in training_data[-val_len:]])\n",
    "y_train = torch.tensor([int(i[1]) for i in training_data[:-val_len]])\n",
    "y_val = torch.tensor([int(i[1]) for i in training_data[-val_len:]])\n"
   ]
  },
  {
   "cell_type": "markdown",
   "id": "b817b179-aeaf-4a9c-af45-07c2dc351071",
   "metadata": {},
   "source": [
    "num_epochs = 50\n",
    "\n",
    "\n"
   ]
  },
  {
   "cell_type": "code",
   "execution_count": 17,
   "id": "59ab7c33-c3e0-43a1-b78b-da3464a8aac3",
   "metadata": {},
   "outputs": [
    {
     "name": "stderr",
     "output_type": "stream",
     "text": [
      "100%|████████████████████████████████████████████████████████████████████████████████| 352/352 [00:30<00:00, 11.54it/s]\n"
     ]
    },
    {
     "name": "stdout",
     "output_type": "stream",
     "text": [
      "epoch 1/20 : loss = 0.0747\n",
      "epoch 1/20 : accuracy = 97.8825%\n"
     ]
    },
    {
     "name": "stderr",
     "output_type": "stream",
     "text": [
      "100%|████████████████████████████████████████████████████████████████████████████████| 352/352 [00:31<00:00, 11.32it/s]\n"
     ]
    },
    {
     "name": "stdout",
     "output_type": "stream",
     "text": [
      "epoch 2/20 : loss = 0.0108\n",
      "epoch 2/20 : accuracy = 99.1348%\n"
     ]
    },
    {
     "name": "stderr",
     "output_type": "stream",
     "text": [
      "100%|████████████████████████████████████████████████████████████████████████████████| 352/352 [00:33<00:00, 10.44it/s]\n"
     ]
    },
    {
     "name": "stdout",
     "output_type": "stream",
     "text": [
      "epoch 3/20 : loss = 0.0140\n",
      "epoch 3/20 : accuracy = 98.8843%\n"
     ]
    },
    {
     "name": "stderr",
     "output_type": "stream",
     "text": [
      "100%|████████████████████████████████████████████████████████████████████████████████| 352/352 [00:34<00:00, 10.12it/s]\n"
     ]
    },
    {
     "name": "stdout",
     "output_type": "stream",
     "text": [
      "epoch 4/20 : loss = 0.0317\n",
      "epoch 4/20 : accuracy = 98.8616%\n"
     ]
    },
    {
     "name": "stderr",
     "output_type": "stream",
     "text": [
      "100%|████████████████████████████████████████████████████████████████████████████████| 352/352 [00:37<00:00,  9.51it/s]\n"
     ]
    },
    {
     "name": "stdout",
     "output_type": "stream",
     "text": [
      "epoch 5/20 : loss = 0.0306\n",
      "epoch 5/20 : accuracy = 99.3169%\n"
     ]
    },
    {
     "name": "stderr",
     "output_type": "stream",
     "text": [
      "100%|████████████████████████████████████████████████████████████████████████████████| 352/352 [00:33<00:00, 10.39it/s]\n"
     ]
    },
    {
     "name": "stdout",
     "output_type": "stream",
     "text": [
      "epoch 6/20 : loss = 0.0232\n",
      "epoch 6/20 : accuracy = 99.2942%\n"
     ]
    },
    {
     "name": "stderr",
     "output_type": "stream",
     "text": [
      "100%|████████████████████████████████████████████████████████████████████████████████| 352/352 [00:31<00:00, 11.06it/s]\n"
     ]
    },
    {
     "name": "stdout",
     "output_type": "stream",
     "text": [
      "epoch 7/20 : loss = 0.0288\n",
      "epoch 7/20 : accuracy = 99.1348%\n"
     ]
    },
    {
     "name": "stderr",
     "output_type": "stream",
     "text": [
      "100%|████████████████████████████████████████████████████████████████████████████████| 352/352 [00:32<00:00, 10.71it/s]\n"
     ]
    },
    {
     "name": "stdout",
     "output_type": "stream",
     "text": [
      "epoch 8/20 : loss = 0.0112\n",
      "epoch 8/20 : accuracy = 99.5674%\n"
     ]
    },
    {
     "name": "stderr",
     "output_type": "stream",
     "text": [
      "100%|████████████████████████████████████████████████████████████████████████████████| 352/352 [00:35<00:00,  9.96it/s]\n"
     ]
    },
    {
     "name": "stdout",
     "output_type": "stream",
     "text": [
      "epoch 9/20 : loss = 0.0152\n",
      "epoch 9/20 : accuracy = 98.9754%\n"
     ]
    },
    {
     "name": "stderr",
     "output_type": "stream",
     "text": [
      "100%|████████████████████████████████████████████████████████████████████████████████| 352/352 [00:31<00:00, 11.01it/s]\n"
     ]
    },
    {
     "name": "stdout",
     "output_type": "stream",
     "text": [
      "epoch 10/20 : loss = 0.0261\n",
      "epoch 10/20 : accuracy = 98.9071%\n"
     ]
    },
    {
     "name": "stderr",
     "output_type": "stream",
     "text": [
      "100%|████████████████████████████████████████████████████████████████████████████████| 352/352 [00:31<00:00, 11.05it/s]\n"
     ]
    },
    {
     "name": "stdout",
     "output_type": "stream",
     "text": [
      "epoch 11/20 : loss = 0.0078\n",
      "epoch 11/20 : accuracy = 99.2031%\n"
     ]
    },
    {
     "name": "stderr",
     "output_type": "stream",
     "text": [
      "100%|████████████████████████████████████████████████████████████████████████████████| 352/352 [00:32<00:00, 10.79it/s]\n"
     ]
    },
    {
     "name": "stdout",
     "output_type": "stream",
     "text": [
      "epoch 12/20 : loss = 0.0118\n",
      "epoch 12/20 : accuracy = 99.6585%\n"
     ]
    },
    {
     "name": "stderr",
     "output_type": "stream",
     "text": [
      "100%|████████████████████████████████████████████████████████████████████████████████| 352/352 [00:32<00:00, 10.99it/s]\n"
     ]
    },
    {
     "name": "stdout",
     "output_type": "stream",
     "text": [
      "epoch 13/20 : loss = 0.0053\n",
      "epoch 13/20 : accuracy = 99.3852%\n"
     ]
    },
    {
     "name": "stderr",
     "output_type": "stream",
     "text": [
      "100%|████████████████████████████████████████████████████████████████████████████████| 352/352 [00:31<00:00, 11.05it/s]\n"
     ]
    },
    {
     "name": "stdout",
     "output_type": "stream",
     "text": [
      "epoch 14/20 : loss = 0.0099\n",
      "epoch 14/20 : accuracy = 98.8843%\n"
     ]
    },
    {
     "name": "stderr",
     "output_type": "stream",
     "text": [
      "100%|████████████████████████████████████████████████████████████████████████████████| 352/352 [00:31<00:00, 11.22it/s]\n"
     ]
    },
    {
     "name": "stdout",
     "output_type": "stream",
     "text": [
      "epoch 15/20 : loss = 0.0213\n",
      "epoch 15/20 : accuracy = 99.5219%\n"
     ]
    },
    {
     "name": "stderr",
     "output_type": "stream",
     "text": [
      "100%|████████████████████████████████████████████████████████████████████████████████| 352/352 [00:31<00:00, 11.35it/s]\n"
     ]
    },
    {
     "name": "stdout",
     "output_type": "stream",
     "text": [
      "epoch 16/20 : loss = 0.0251\n",
      "epoch 16/20 : accuracy = 99.4763%\n"
     ]
    },
    {
     "name": "stderr",
     "output_type": "stream",
     "text": [
      "100%|████████████████████████████████████████████████████████████████████████████████| 352/352 [00:31<00:00, 11.27it/s]\n"
     ]
    },
    {
     "name": "stdout",
     "output_type": "stream",
     "text": [
      "epoch 17/20 : loss = 0.0157\n",
      "epoch 17/20 : accuracy = 99.3625%\n"
     ]
    },
    {
     "name": "stderr",
     "output_type": "stream",
     "text": [
      "100%|████████████████████████████████████████████████████████████████████████████████| 352/352 [00:33<00:00, 10.53it/s]\n"
     ]
    },
    {
     "name": "stdout",
     "output_type": "stream",
     "text": [
      "epoch 18/20 : loss = 0.0106\n",
      "epoch 18/20 : accuracy = 99.6585%\n"
     ]
    },
    {
     "name": "stderr",
     "output_type": "stream",
     "text": [
      "100%|████████████████████████████████████████████████████████████████████████████████| 352/352 [00:31<00:00, 11.30it/s]\n"
     ]
    },
    {
     "name": "stdout",
     "output_type": "stream",
     "text": [
      "epoch 19/20 : loss = 0.0022\n",
      "epoch 19/20 : accuracy = 99.8862%\n"
     ]
    },
    {
     "name": "stderr",
     "output_type": "stream",
     "text": [
      "100%|████████████████████████████████████████████████████████████████████████████████| 352/352 [00:31<00:00, 11.35it/s]\n"
     ]
    },
    {
     "name": "stdout",
     "output_type": "stream",
     "text": [
      "epoch 20/20 : loss = 0.0109\n",
      "epoch 20/20 : accuracy = 99.4763%\n"
     ]
    }
   ],
   "source": [
    "num_epochs = 20\n",
    "batch_size = 50\n",
    "\n",
    "losses = []\n",
    "training_acc = []\n",
    "for epoch in range(num_epochs):\n",
    "    epoch_loss = 0\n",
    "    num_correct = 0\n",
    "    total = 0\n",
    "    for i in tqdm(range(0,len(X_train),batch_size)):\n",
    "        x = X_train[i:i+batch_size].view(-1,1,28,28)\n",
    "        batch_y = y_train[i:i+batch_size]\n",
    "        optimizer.zero_grad()\n",
    "        ops = net(x)\n",
    "        loss = loss_fn(ops,batch_y)\n",
    "        loss.backward()\n",
    "        optimizer.step()\n",
    "        epoch_loss += loss.item()\n",
    "    for j in range(len(X_val)):\n",
    "        x1 = X_val[j].view(-1,1,28,28)\n",
    "        y_1 = y_val[j]\n",
    "        op = net(x1)\n",
    "        _,predclass = torch.max(op,1)\n",
    "        if predclass == y_1:\n",
    "            num_correct+= 1\n",
    "        total += 1\n",
    "    temp_acc = num_correct/total\n",
    "    training_acc.append(temp_acc)\n",
    "    avg_epoch_loss = epoch_loss/(len(X)//batch_size)\n",
    "    losses.append(avg_epoch_loss)\n",
    "    print(f\"epoch {epoch+1}/{num_epochs} : loss = {avg_epoch_loss:.4f}\")\n",
    "    print(f\"epoch {epoch+1}/{num_epochs} : accuracy = {(temp_acc*100):.4f}%\")\n",
    "    \n",
    "   "
   ]
  },
  {
   "cell_type": "code",
   "execution_count": 18,
   "id": "014532ef-50df-4687-8b81-12b9516a81c2",
   "metadata": {},
   "outputs": [
    {
     "data": {
      "image/png": "[encoded data removed]",
      "text/plain": [
       "<Figure size 640x480 with 2 Axes>"
      ]
     },
     "metadata": {},
     "output_type": "display_data"
    }
   ],
   "source": [
    "plt.plot(range(1,num_epochs+1),losses, marker = 'o',color = 'b')\n",
    "plt.title('Training Loss over Epochs')\n",
    "plt.xlabel('Epochs')\n",
    "plt.ylabel('Loss', color = 'b')\n",
    "plt.grid(True)\n",
    "ax2 = plt.gca().twinx()\n",
    "ax2.plot(range(1, num_epochs+1), training_acc, marker='x', color='r', label='Accuracy')\n",
    "ax2.set_ylabel('Accuracy', color='r')\n",
    "plt.show()"
   ]
  },
  {
   "cell_type": "markdown",
   "id": "53401b08-e59a-41aa-a1ad-0d9f5949d1ea",
   "metadata": {},
   "source": [
    "Now we can see the the accuracy on the testing dataset"
   ]
  },
  {
   "cell_type": "code",
   "execution_count": 19,
   "id": "662f47bf-b698-437d-829b-3a1666cb81e7",
   "metadata": {},
   "outputs": [
    {
     "name": "stdout",
     "output_type": "stream",
     "text": [
      "The accuracy as seen on the testing set is : 97.4868%\n"
     ]
    }
   ],
   "source": [
    "X_test = torch.stack([i[0].view(28,28) for i in testing_data])\n",
    "y_test = torch.tensor([int(i[1]) for i in testing_data])\n",
    "correct_preds = 0\n",
    "tot = 0\n",
    "for i in range(len(X_test)):\n",
    "    x_tmp = X_test[i].view(-1,1,28,28)\n",
    "    op1 = net(x_tmp)\n",
    "    _,pred = torch.max(op1,1)\n",
    "    if pred == y_test[i]:\n",
    "        correct_preds += 1\n",
    "    tot += 1\n",
    "acc = correct_preds/tot\n",
    "print(f\"The accuracy as seen on the testing set is : {(acc*100):.4f}%\")"
   ]
  },
  {
   "cell_type": "code",
   "execution_count": null,
   "id": "4ca107b1-4e2d-4507-a219-5e1bc1d74537",
   "metadata": {},
   "outputs": [],
   "source": []
  }
 ],
 "metadata": {
  "kernelspec": {
   "display_name": "Python 3 (ipykernel)",
   "language": "python",
   "name": "python3"
  },
  "language_info": {
   "codemirror_mode": {
    "name": "ipython",
    "version": 3
   },
   "file_extension": ".py",
   "mimetype": "text/x-python",
   "name": "python",
   "nbconvert_exporter": "python",
   "pygments_lexer": "ipython3",
   "version": "3.12.3"
  }
 },
 "nbformat": 4,
 "nbformat_minor": 5
}
